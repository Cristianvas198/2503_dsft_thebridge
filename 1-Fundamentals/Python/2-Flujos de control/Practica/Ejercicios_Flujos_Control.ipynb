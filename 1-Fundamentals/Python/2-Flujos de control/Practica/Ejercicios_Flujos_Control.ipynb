{
 "cells": [
  {
   "cell_type": "markdown",
   "metadata": {},
   "source": [
    "![imagen](./img/ejercicios.png)"
   ]
  },
  {
   "cell_type": "markdown",
   "metadata": {},
   "source": [
    "# Ejercicios Flujos de control"
   ]
  },
  {
   "cell_type": "markdown",
   "metadata": {},
   "source": [
    "## Ejercicio 1\n",
    "Declara una variable numérica que será una hora cualquiera del día. Implementa la siguiente casuística:\n",
    "\n",
    "* Si es entre las 0 y las 8, print \"Durmiendo\"\n",
    "* Si es entre las 9 y las 18, print \"Trabajando\"\n",
    "* Si es entre las 19 y las 21, print \"Clase\"\n",
    "* Si es entre las 22 y las 24, print \"Descanso\"\n",
    "* En cualquier otro caso, print \"Transporte o error\""
   ]
  },
  {
   "cell_type": "code",
   "execution_count": 20,
   "metadata": {},
   "outputs": [],
   "source": [
    "# 1 hora -- 60 minutos\n",
    "# x hora -- 30 minutos\n",
    "# x = 30/60 = 0.5"
   ]
  },
  {
   "cell_type": "code",
   "execution_count": null,
   "metadata": {},
   "outputs": [
    {
     "name": "stdout",
     "output_type": "stream",
     "text": [
      "Otro momento (Transporte)\n"
     ]
    }
   ],
   "source": [
    "hora = 21.5\n",
    "\n",
    "# if hora > 0 and hora < 8:\n",
    "if 0 <= hora <= 8:\n",
    "    print(\"Durmiendo\")\n",
    "elif 9 <= hora <= 18:\n",
    "    print(\"Trabajando\")\n",
    "elif 19 <= hora <= 21:\n",
    "    print(\"Clase\")\n",
    "elif 22 <= hora < 24:\n",
    "    print(\"Descanso\")\n",
    "elif hora < 0 or hora > 24:\n",
    "    print(\"Hora errónea\")\n",
    "else:\n",
    "    print(\"Otro momento (Transporte)\")"
   ]
  },
  {
   "cell_type": "code",
   "execution_count": 51,
   "metadata": {},
   "outputs": [
    {
     "name": "stdout",
     "output_type": "stream",
     "text": [
      "Durmiendo\n"
     ]
    }
   ],
   "source": [
    "hora = 5\n",
    "cond_durmiendo = (0 <= hora <= 8)\n",
    "if cond_durmiendo:\n",
    "    print(\"Durmiendo\")\n",
    "else:\n",
    "    print(\"Otro\")"
   ]
  },
  {
   "cell_type": "code",
   "execution_count": 53,
   "metadata": {},
   "outputs": [
    {
     "name": "stdout",
     "output_type": "stream",
     "text": [
      "Hola\n",
      "Esperando 3 segundos...\n",
      "Adiós\n"
     ]
    }
   ],
   "source": [
    "import time\n",
    "\n",
    "print(\"Hola\")\n",
    "print(\"Esperando 3 segundos...\")\n",
    "time.sleep(3)\n",
    "print(\"Adiós\")"
   ]
  },
  {
   "cell_type": "markdown",
   "metadata": {},
   "source": [
    "## Ejercicio 2\n",
    "En este ejercicio vamos a implementar un calculador de precios de casas muy sencillo. Tenemos las siguientes variables:\n",
    "\n",
    "> superficie\n",
    ">\n",
    "> distrito\n",
    "\n",
    "Implementa la siguiente casuística:\n",
    "\n",
    "1. Si el distrito es \"Moncloa\" o \"Centro\", y además la superficie es superior a 100 metros cuadrados, el precio de la casa es de 1000\n",
    "2. Si el distrito es \"Salamanca\", y además la superficie de la casa es al menos de 150 metros, el precio de la casa es de 1500\n",
    "3. Si el distrito no es \"Retiro\" y la superficie está entre 60 y 80 metros, el precio es de 600\n",
    "4. En cualquier otro caso, el precio será de 0"
   ]
  },
  {
   "cell_type": "code",
   "execution_count": 62,
   "metadata": {},
   "outputs": [
    {
     "name": "stdout",
     "output_type": "stream",
     "text": [
      "El precio de la casa en Recoletos y superficie de 70 tiene un precio de 600\n"
     ]
    }
   ],
   "source": [
    "superficie = 70\n",
    "distrito = \"Recoletos\"\n",
    "\n",
    "if (distrito == \"Moncloa\" or distrito == \"Centro\") and superficie > 100:\n",
    "    precio = 1000\n",
    "    # print(precio)\n",
    "elif distrito == \"Salamanca\" and superficie >= 150:\n",
    "    precio = 1500\n",
    "    # print(precio)\n",
    "elif distrito != \"Retiro\" and 60 <= superficie <= 80:\n",
    "    precio = 600\n",
    "    # print(precio)\n",
    "else:\n",
    "    precio = 0\n",
    "    # print(precio)\n",
    "\n",
    "print(f\"El precio de la casa en {distrito} y superficie de {superficie} tiene un precio de {precio}\")"
   ]
  },
  {
   "cell_type": "markdown",
   "metadata": {},
   "source": [
    "## Ejercicio 3\n",
    "En este ejercicio vamos a realizar un programa muy parecido. Para este caso queremos que se cumplan las siguientes condiciones:\n",
    "\n",
    "1. Primero se compruebe si el distrito es \"Retiro\". Si es asá, que imprima \"Distrito Retiro\", y si no, \"Otro distrito\"\n",
    "2. Si el distrito es \"Retiro\", comprueba si la superficie es mayor de 100 metros cuadrados. En tal caso, que imprima un precio de 1000, y si no, de 500.\n",
    "\n",
    "Prueba a usar `ifs` anidados"
   ]
  },
  {
   "cell_type": "code",
   "execution_count": 70,
   "metadata": {},
   "outputs": [
    {
     "name": "stdout",
     "output_type": "stream",
     "text": [
      "Distrito Retiro\n",
      "Precio de 1000\n",
      "Fin del programa\n"
     ]
    }
   ],
   "source": [
    "superficie = 120\n",
    "distrito = \"Retiro\"\n",
    "\n",
    "if distrito == \"Retiro\":\n",
    "    print(\"Distrito Retiro\")\n",
    "    if superficie > 100:\n",
    "        print(\"Precio de\", 1000)\n",
    "    else:\n",
    "        print(\"Precio de\", 500)\n",
    "else:\n",
    "    print(\"Otro distrito\")\n",
    "\n",
    "print(\"Fin del programa\")"
   ]
  },
  {
   "cell_type": "code",
   "execution_count": 71,
   "metadata": {},
   "outputs": [
    {
     "name": "stdout",
     "output_type": "stream",
     "text": [
      "Distrito Retiro\n",
      "Precio de 1000\n"
     ]
    }
   ],
   "source": [
    "if distrito == \"Retiro\" and superficie > 100:\n",
    "    print(\"Distrito Retiro\")\n",
    "    print(\"Precio de\", 1000)\n",
    "elif distrito == \"Retiro\":\n",
    "    print(\"Distrito Retiro\")\n",
    "    print(\"Precio de\", 500)\n",
    "else:\n",
    "    print(\"Otro distrito\")"
   ]
  },
  {
   "cell_type": "markdown",
   "metadata": {},
   "source": [
    "## Ejercicio 4\n",
    "Escribe un programa que tenga dos variables: un numero, y una lista numérica. El programa debe recorrer la lista e imprimir por pantalla cada elemento de la lista multiplicado por el número"
   ]
  },
  {
   "cell_type": "code",
   "execution_count": 2,
   "metadata": {},
   "outputs": [
    {
     "name": "stdout",
     "output_type": "stream",
     "text": [
      "9\n",
      "21\n",
      "12\n",
      "36\n",
      "Fin del programa\n"
     ]
    }
   ],
   "source": [
    "n = 3\n",
    "lista_4 = [3,7,4,12]\n",
    "\n",
    "for x in lista_4:\n",
    "    print(x * n)\n",
    "\n",
    "print(\"Fin del programa\")"
   ]
  },
  {
   "cell_type": "code",
   "execution_count": 4,
   "metadata": {},
   "outputs": [
    {
     "name": "stdout",
     "output_type": "stream",
     "text": [
      "Fin del programa\n",
      "[9, 21, 12, 36]\n"
     ]
    }
   ],
   "source": [
    "n = 3\n",
    "lista_4 = [3,7,4,12]\n",
    "nueva_lista = []\n",
    "\n",
    "for x in lista_4:\n",
    "    nueva_lista.append(x * n)\n",
    "\n",
    "print(\"Fin del programa\")\n",
    "print(nueva_lista)"
   ]
  },
  {
   "cell_type": "code",
   "execution_count": 5,
   "metadata": {},
   "outputs": [
    {
     "name": "stdout",
     "output_type": "stream",
     "text": [
      "Fin del programa\n",
      "[9, 21, 12, 36]\n"
     ]
    }
   ],
   "source": [
    "n = 3\n",
    "lista_4 = [3,7,4,12]\n",
    "\n",
    "for i, x in enumerate(lista_4):\n",
    "    lista_4[i] = x * n\n",
    "\n",
    "\n",
    "print(\"Fin del programa\")\n",
    "print(lista_4)"
   ]
  },
  {
   "cell_type": "code",
   "execution_count": null,
   "metadata": {},
   "outputs": [],
   "source": [
    "lista_input = []\n",
    "while len(lista_input) < 5:\n",
    "    valor = int(input(\"Introduzca un valor\"))\n",
    "    lista_input.append(valor)\n",
    "\n",
    "print(lista_input)"
   ]
  },
  {
   "cell_type": "markdown",
   "metadata": {},
   "source": [
    "## Ejercicio 5\n",
    "Imprime por pantalla cada número del -10 al -1. En ese orden. Consulta [la documentación](https://www.w3schools.com/python/ref_func_range.asp) de `range`"
   ]
  },
  {
   "cell_type": "code",
   "execution_count": 9,
   "metadata": {},
   "outputs": [
    {
     "data": {
      "text/plain": [
       "[-10, -9, -8, -7, -6, -5, -4, -3, -2, -1]"
      ]
     },
     "execution_count": 9,
     "metadata": {},
     "output_type": "execute_result"
    }
   ],
   "source": [
    "list(range(-10,0,1))"
   ]
  },
  {
   "cell_type": "code",
   "execution_count": 10,
   "metadata": {},
   "outputs": [
    {
     "name": "stdout",
     "output_type": "stream",
     "text": [
      "-10\n",
      "-9\n",
      "-8\n",
      "-7\n",
      "-6\n",
      "-5\n",
      "-4\n",
      "-3\n",
      "-2\n",
      "-1\n"
     ]
    }
   ],
   "source": [
    "for x in range(-10,0,1):\n",
    "    print(x)"
   ]
  },
  {
   "cell_type": "code",
   "execution_count": 21,
   "metadata": {},
   "outputs": [
    {
     "name": "stdout",
     "output_type": "stream",
     "text": [
      "-10\n",
      "-9\n",
      "-8\n",
      "-7\n",
      "-6\n",
      "-5\n",
      "-4\n",
      "-3\n",
      "-2\n",
      "-1\n"
     ]
    }
   ],
   "source": [
    "print(*list(range(-10,0,1)), sep=\"\\n\")"
   ]
  },
  {
   "cell_type": "markdown",
   "metadata": {},
   "source": [
    "## Ejercicio 6\n",
    "Dada la siguiente lista:\n",
    "\n",
    "> list1 = [12, 15, 32, 42, 55, 75, 122, 132, 150, 180, 200]\n",
    "\n",
    "Implementa un programa que los recorra e imprima por pantalla todos los divisibles por 5. Si nos encontramos con alguno que sea mayor que 150, detener el bucle."
   ]
  },
  {
   "cell_type": "code",
   "execution_count": 27,
   "metadata": {},
   "outputs": [],
   "source": [
    "list1 = [12, 15, 32, 42, 55, 75, 122, 132, 150, 180, 200, 5]"
   ]
  },
  {
   "cell_type": "code",
   "execution_count": 28,
   "metadata": {},
   "outputs": [
    {
     "name": "stdout",
     "output_type": "stream",
     "text": [
      "15\n",
      "55\n",
      "75\n",
      "150\n"
     ]
    }
   ],
   "source": [
    "for x in list1:\n",
    "    if x > 150:\n",
    "        break\n",
    "    if x % 5 == 0:\n",
    "        print(x)\n"
   ]
  },
  {
   "cell_type": "code",
   "execution_count": 29,
   "metadata": {},
   "outputs": [
    {
     "name": "stdout",
     "output_type": "stream",
     "text": [
      "15\n",
      "55\n",
      "75\n",
      "150\n",
      "5\n"
     ]
    }
   ],
   "source": [
    "for x in list1:\n",
    "    if x % 5 == 0:\n",
    "        if x <= 150:\n",
    "            print(x)\n"
   ]
  },
  {
   "attachments": {},
   "cell_type": "markdown",
   "metadata": {},
   "source": [
    "## Ejercicio 7\n",
    "Escribe un programa en Python que imprima por pantalla todos los números que cumplan que sean divisibles por 5 y divisibles por 7, dentro del rango de valores (150, 350)."
   ]
  },
  {
   "cell_type": "code",
   "execution_count": 30,
   "metadata": {},
   "outputs": [
    {
     "name": "stdout",
     "output_type": "stream",
     "text": [
      "175 35.0 25.0\n",
      "210 42.0 30.0\n",
      "245 49.0 35.0\n",
      "280 56.0 40.0\n",
      "315 63.0 45.0\n",
      "350 70.0 50.0\n"
     ]
    }
   ],
   "source": [
    "for x in range(150,351):\n",
    "    if x % 35 == 0:\n",
    "        print(x, x/5, x/7)"
   ]
  },
  {
   "cell_type": "code",
   "execution_count": 31,
   "metadata": {},
   "outputs": [
    {
     "name": "stdout",
     "output_type": "stream",
     "text": [
      "175 35.0 25.0\n",
      "210 42.0 30.0\n",
      "245 49.0 35.0\n",
      "280 56.0 40.0\n",
      "315 63.0 45.0\n",
      "350 70.0 50.0\n"
     ]
    }
   ],
   "source": [
    "for x in range(150,351):\n",
    "    if x % 5 == 0 and x % 7 == 0:\n",
    "        print(x, x/5, x/7)"
   ]
  },
  {
   "cell_type": "markdown",
   "metadata": {},
   "source": [
    "## Ejercicio 8\n",
    "Implementa un programa que imprima por pantalla el siguiente patrón\n",
    "\n",
    "5 4 3 2 1 \n",
    "\n",
    "4 3 2 1 \n",
    "\n",
    "3 2 1 \n",
    "\n",
    "2 1 \n",
    "\n",
    "1\n",
    "\n",
    "NOTA: NO hay lineas en blanco entre una línea y otra."
   ]
  },
  {
   "cell_type": "code",
   "execution_count": 32,
   "metadata": {},
   "outputs": [
    {
     "name": "stdout",
     "output_type": "stream",
     "text": [
      "[5, 4, 3, 2, 1]\n"
     ]
    }
   ],
   "source": [
    "lista_8 = list(range(5,0,-1))\n",
    "print(lista_8)"
   ]
  },
  {
   "cell_type": "code",
   "execution_count": 35,
   "metadata": {},
   "outputs": [
    {
     "name": "stdout",
     "output_type": "stream",
     "text": [
      "5 4 3 2 1\n",
      "4 3 2 1\n",
      "3 2 1\n",
      "2 1\n",
      "1\n"
     ]
    }
   ],
   "source": [
    "print(*lista_8)\n",
    "print(*lista_8[1:])\n",
    "print(*lista_8[2:])\n",
    "print(*lista_8[3:])\n",
    "print(*lista_8[4:])"
   ]
  },
  {
   "cell_type": "code",
   "execution_count": 36,
   "metadata": {},
   "outputs": [
    {
     "name": "stdout",
     "output_type": "stream",
     "text": [
      "5 4 3 2 1\n",
      "4 3 2 1\n",
      "3 2 1\n",
      "2 1\n",
      "1\n"
     ]
    }
   ],
   "source": [
    "i = 0\n",
    "\n",
    "while i < len(lista_8):\n",
    "    print(*lista_8[i:])\n",
    "    i = i + 1"
   ]
  },
  {
   "cell_type": "code",
   "execution_count": 37,
   "metadata": {},
   "outputs": [
    {
     "name": "stdout",
     "output_type": "stream",
     "text": [
      "5 4 3 2 1\n",
      "4 3 2 1\n",
      "3 2 1\n",
      "2 1\n",
      "1\n"
     ]
    }
   ],
   "source": [
    "lista_8 = list(range(5,0,-1))\n",
    "\n",
    "while len(lista_8) > 0:\n",
    "    print(*lista_8)\n",
    "    lista_8.pop(0)"
   ]
  },
  {
   "cell_type": "code",
   "execution_count": 46,
   "metadata": {},
   "outputs": [
    {
     "name": "stdout",
     "output_type": "stream",
     "text": [
      "5 4 3 2 1 \n",
      "4 3 2 1 \n",
      "3 2 1 \n",
      "2 1 \n",
      "1 \n"
     ]
    }
   ],
   "source": [
    "lista_8 = list(range(5,0,-1))\n",
    "\n",
    "for x in lista_8:\n",
    "    for j in range(x, 0, -1):\n",
    "        print(j, end=\" \")\n",
    "    print()"
   ]
  },
  {
   "cell_type": "code",
   "execution_count": 49,
   "metadata": {},
   "outputs": [
    {
     "name": "stdout",
     "output_type": "stream",
     "text": [
      "5 4 3 2 1\n",
      "4 3 2 1\n",
      "3 2 1\n",
      "2 1\n",
      "1\n"
     ]
    }
   ],
   "source": [
    "for x in lista_8:\n",
    "    print(*list(range(x, 0, -1)))"
   ]
  },
  {
   "cell_type": "markdown",
   "metadata": {},
   "source": [
    "## Ejercicio 9\n",
    "En este ejercicio vamos a crear un pequeño juego. Se trata de intentar adivinar un numero del 1 al 5. Tenemos dos intentos para acertar. Pasos a seguir:\n",
    "\n",
    "1. Ya viene implementado con la librería `random` cómo obtener un número aleatorio del 1 al 5\n",
    "2. Tendrás que declarar en una variable el numero de vidas, y mediante un bucle while, comprobar que todavia quedan vidas.\n",
    "3. Dentro del bucle, obtener el valor del usuario y comprobar si es ese el numero a adivinar. Si no, actualizar las vidas.\n",
    "4. Si acertamos, salimos del bucle e imprimimos por pantalla \"You win\". Y si perdemos también salimos del bucle, pero en este caso imprimimos por pantalla \"You lose\".\n",
    "\n",
    "TIP: te puede resultar útil usar la sentencia `else` cuando acabe el bucle `while`. Lo que haya dentro de ese `else` se ejecutará una vez acabe la ejecución del `while`. Lo podrás usar para cuando pierdas."
   ]
  },
  {
   "cell_type": "code",
   "execution_count": 50,
   "metadata": {},
   "outputs": [],
   "source": [
    "import random"
   ]
  },
  {
   "cell_type": "code",
   "execution_count": null,
   "metadata": {},
   "outputs": [],
   "source": [
    "# from random import randint"
   ]
  },
  {
   "cell_type": "code",
   "execution_count": 70,
   "metadata": {},
   "outputs": [
    {
     "data": {
      "text/plain": [
       "1"
      ]
     },
     "execution_count": 70,
     "metadata": {},
     "output_type": "execute_result"
    }
   ],
   "source": [
    "random.randint(1,5)"
   ]
  },
  {
   "cell_type": "code",
   "execution_count": 93,
   "metadata": {},
   "outputs": [
    {
     "data": {
      "text/plain": [
       "3"
      ]
     },
     "execution_count": 93,
     "metadata": {},
     "output_type": "execute_result"
    }
   ],
   "source": [
    "random.choice(range(1,6))"
   ]
  },
  {
   "cell_type": "code",
   "execution_count": 118,
   "metadata": {},
   "outputs": [
    {
     "name": "stdout",
     "output_type": "stream",
     "text": [
      "4\n"
     ]
    }
   ],
   "source": [
    "n_oculto = random.randint(1,5)\n",
    "print(n_oculto)\n",
    "# 1º reto resulto: Generar un número aleatorio"
   ]
  },
  {
   "cell_type": "code",
   "execution_count": null,
   "metadata": {},
   "outputs": [
    {
     "name": "stdout",
     "output_type": "stream",
     "text": [
      "Has fallado\n",
      "Fin del juego\n"
     ]
    }
   ],
   "source": [
    "vidas = 1\n",
    "\n",
    "while vidas > 0:\n",
    "    fallo = True\n",
    "    if fallo == True:\n",
    "        print(\"Has fallado\")\n",
    "        vidas = vidas - 1\n",
    "\n",
    "print(\"Fin del juego\")\n",
    "# 2 reto conseguido. Desarrollado bucle while con las vidas"
   ]
  },
  {
   "cell_type": "code",
   "execution_count": null,
   "metadata": {},
   "outputs": [
    {
     "name": "stdout",
     "output_type": "stream",
     "text": [
      "Has acertado\n"
     ]
    }
   ],
   "source": [
    "n_usuario = int(input(\"Introuduzca numero\"))\n",
    "if n_oculto == n_usuario:\n",
    "    print(\"Has acertado\")\n",
    "else:\n",
    "    print(\"Has fallado\")\n",
    "# Reto 3 comprobar si el usuario acierta o falla"
   ]
  },
  {
   "cell_type": "code",
   "execution_count": 131,
   "metadata": {},
   "outputs": [
    {
     "name": "stdout",
     "output_type": "stream",
     "text": [
      "Has fallado\n",
      "Has fallado\n",
      "Fin del juego, el número era 1\n",
      "Jugar de nuevo?\n"
     ]
    }
   ],
   "source": [
    "n_oculto = random.randint(1,5)\n",
    "# print(n_oculto)\n",
    "\n",
    "vidas = 2\n",
    "\n",
    "while vidas > 0:\n",
    "    n_usuario = int(input(\"Introduzca numero del 1 al 5\"))\n",
    "    if n_oculto == n_usuario:\n",
    "        print(\"Has acertado, el número era\", n_oculto)\n",
    "        break\n",
    "    else:\n",
    "        print(\"Has fallado\")\n",
    "        vidas = vidas - 1\n",
    "else:\n",
    "    print(\"Fin del juego, el número era\", n_oculto )\n",
    "\n",
    "print(\"Jugar de nuevo?\")"
   ]
  },
  {
   "cell_type": "code",
   "execution_count": 132,
   "metadata": {},
   "outputs": [],
   "source": [
    "def jugar():\n",
    "    n_oculto = random.randint(1,5)\n",
    "    # print(n_oculto)\n",
    "\n",
    "    vidas = 2\n",
    "\n",
    "    while vidas > 0:\n",
    "        n_usuario = int(input(\"Introduzca numero del 1 al 5\"))\n",
    "        if n_oculto == n_usuario:\n",
    "            print(\"Has acertado, el número era\", n_oculto)\n",
    "            break\n",
    "        else:\n",
    "            print(\"Has fallado\")\n",
    "            vidas = vidas - 1\n",
    "    else:\n",
    "        print(\"Fin del juego, el número era\", n_oculto )\n",
    "\n",
    "    print(\"Jugar de nuevo?\")"
   ]
  },
  {
   "cell_type": "code",
   "execution_count": 133,
   "metadata": {},
   "outputs": [
    {
     "name": "stdout",
     "output_type": "stream",
     "text": [
      "Has fallado\n",
      "Has acertado, el número era 2\n",
      "Jugar de nuevo?\n"
     ]
    }
   ],
   "source": [
    "jugar()"
   ]
  },
  {
   "cell_type": "code",
   "execution_count": 134,
   "metadata": {},
   "outputs": [
    {
     "name": "stdout",
     "output_type": "stream",
     "text": [
      "Has fallado\n",
      "Has fallado\n",
      "Fin del juego, el número era 5\n",
      "Jugar de nuevo?\n"
     ]
    }
   ],
   "source": [
    "jugar()"
   ]
  },
  {
   "cell_type": "code",
   "execution_count": 138,
   "metadata": {},
   "outputs": [],
   "source": [
    "def jugar():\n",
    "    print(\"Empezando nueva partida..\")\n",
    "    n_oculto = random.randint(1,5)\n",
    "    # print(n_oculto)\n",
    "\n",
    "    vidas = 2\n",
    "\n",
    "    while vidas > 0:\n",
    "        n_usuario = int(input(\"Introduzca numero del 1 al 5\"))\n",
    "        if n_oculto == n_usuario:\n",
    "            print(\"Has acertado, el número era\", n_oculto)\n",
    "            break\n",
    "        else:\n",
    "            print(\"Has fallado\")\n",
    "            vidas = vidas - 1\n",
    "    else:\n",
    "        print(\"Fin del juego, el número era\", n_oculto )\n",
    "\n",
    "    mensaje = input(\"Jugar de nuevo? S/N\")\n",
    "    if mensaje == \"S\":\n",
    "        jugar()"
   ]
  },
  {
   "cell_type": "code",
   "execution_count": 139,
   "metadata": {},
   "outputs": [
    {
     "name": "stdout",
     "output_type": "stream",
     "text": [
      "Empezando nueva partida..\n",
      "Has fallado\n",
      "Has fallado\n",
      "Fin del juego, el número era 5\n",
      "Empezando nueva partida..\n",
      "Has fallado\n",
      "Has fallado\n",
      "Fin del juego, el número era 2\n"
     ]
    }
   ],
   "source": [
    "jugar()"
   ]
  },
  {
   "cell_type": "code",
   "execution_count": 152,
   "metadata": {},
   "outputs": [],
   "source": [
    "def jugar(vidas_ini=2):\n",
    "    print()\n",
    "    print(\"Empezando nueva partida..\")\n",
    "    n_oculto = random.randint(1,5)\n",
    "    vidas = vidas_ini\n",
    "    while vidas > 0:\n",
    "        n_usuario = int(input(\"Introduzca numero del 1 al 5\"))\n",
    "        if n_oculto == n_usuario:\n",
    "            print(\"Has acertado, el número era\", n_oculto)\n",
    "            break\n",
    "        else:\n",
    "            print(\"Has fallado\")\n",
    "            vidas = vidas - 1\n",
    "            print(\"Te quedan\", vidas, \"vidas\")\n",
    "    else:\n",
    "        print(\"Fin del juego, el número era\", n_oculto )\n",
    "\n",
    "    mensaje = input(\"Jugar de nuevo? S/N\")\n",
    "    if mensaje == \"S\":\n",
    "        jugar(vidas_ini)"
   ]
  },
  {
   "cell_type": "code",
   "execution_count": 153,
   "metadata": {},
   "outputs": [
    {
     "name": "stdout",
     "output_type": "stream",
     "text": [
      "\n",
      "Empezando nueva partida..\n",
      "Has fallado\n",
      "Te quedan 4 vidas\n",
      "Has fallado\n",
      "Te quedan 3 vidas\n",
      "Has acertado, el número era 3\n",
      "\n",
      "Empezando nueva partida..\n",
      "Has fallado\n",
      "Te quedan 4 vidas\n",
      "Has acertado, el número era 5\n"
     ]
    }
   ],
   "source": [
    "jugar(5)"
   ]
  },
  {
   "cell_type": "code",
   "execution_count": null,
   "metadata": {},
   "outputs": [],
   "source": []
  }
 ],
 "metadata": {
  "kernelspec": {
   "display_name": "Python 3",
   "language": "python",
   "name": "python3"
  },
  "language_info": {
   "codemirror_mode": {
    "name": "ipython",
    "version": 3
   },
   "file_extension": ".py",
   "mimetype": "text/x-python",
   "name": "python",
   "nbconvert_exporter": "python",
   "pygments_lexer": "ipython3",
   "version": "3.11.3"
  }
 },
 "nbformat": 4,
 "nbformat_minor": 4
}
